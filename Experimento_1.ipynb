{
 "cells": [
  {
   "cell_type": "markdown",
   "metadata": {},
   "source": [
    "# Experimento 1: HMM con un solo locutor"
   ]
  },
  {
   "cell_type": "code",
   "execution_count": 30,
   "metadata": {},
   "outputs": [],
   "source": [
    "from os import listdir\n",
    "from os.path import isdir, join\n",
    "import librosa\n",
    "import random\n",
    "import numpy as np\n",
    "import matplotlib.pyplot as plt\n",
    "import python_speech_features\n",
    "from scipy.io import wavfile\n"
   ]
  },
  {
   "cell_type": "code",
   "execution_count": 31,
   "metadata": {},
   "outputs": [],
   "source": [
    "from hmmlearn import hmm\n",
    "\n",
    "# Class to handle HMM processing(Python-Machine-Learning-Cookbook)\n",
    "class HMMTrainer(object):\n",
    "    def __init__(self, model_name='GaussianHMM', n_components=4, cov_type='diag', n_iter=100):\n",
    "        self.model_name = model_name\n",
    "        self.n_components = n_components\n",
    "        self.cov_type = cov_type\n",
    "        self.n_iter = n_iter\n",
    "        self.models = []\n",
    "\n",
    "        if self.model_name == 'GaussianHMM':\n",
    "            self.model = hmm.GaussianHMM(n_components=self.n_components,\n",
    "                    covariance_type=self.cov_type, n_iter=self.n_iter)\n",
    "        else:\n",
    "            raise TypeError('Invalid model type')\n",
    "\n",
    "    # X is a 2D numpy array where each row is 16D\n",
    "    def train(self, X, lengths):\n",
    "        np.seterr(all='ignore')\n",
    "        self.models.append(self.model.fit(X, lengths))#Feature matrix of individual samples.\n",
    "\n",
    "    # Run the model on input data\n",
    "    def get_score(self, input_data, lengths):\n",
    "        return self.model.score(input_data, lengths)"
   ]
  },
  {
   "cell_type": "code",
   "execution_count": 32,
   "metadata": {},
   "outputs": [
    {
     "data": {
      "text/plain": [
       "['x', 'y', 'words']"
      ]
     },
     "execution_count": 32,
     "metadata": {},
     "output_type": "execute_result"
    }
   ],
   "source": [
    "# Load features\n",
    "feature_sets_file = 'mfcc_sets_BD1.npz'\n",
    "feature_sets = np.load(feature_sets_file)\n",
    "feature_sets.files"
   ]
  },
  {
   "cell_type": "code",
   "execution_count": 33,
   "metadata": {},
   "outputs": [
    {
     "name": "stdout",
     "output_type": "stream",
     "text": [
      "['apple' 'banana' 'kiwi' 'lime' 'orange' 'peach' 'pineapple']\n"
     ]
    }
   ],
   "source": [
    "words = feature_sets['words']\n",
    "print(words)"
   ]
  },
  {
   "cell_type": "code",
   "execution_count": 34,
   "metadata": {},
   "outputs": [
    {
     "name": "stdout",
     "output_type": "stream",
     "text": [
      "[[[ 1.60494287e+01  1.77168291e+01  2.00614752e+01 ...  1.65701323e+01\n",
      "    1.50300061e+01  1.50654579e+01]\n",
      "  [-2.65705047e+01 -2.39843626e+01 -3.33263386e+01 ...  9.04678799e-01\n",
      "   -5.10792941e+00 -9.06651798e+00]\n",
      "  [-3.15408914e+01 -3.98528340e+01 -4.17731441e+01 ... -2.80965052e+01\n",
      "   -2.27616027e+01 -1.79807146e+01]\n",
      "  ...\n",
      "  [-4.26363748e+00  2.06917916e+00  1.34309924e+00 ...  2.09495754e-02\n",
      "    9.76663975e+00  1.04019958e+00]\n",
      "  [-2.85982016e+00  3.20241210e-01 -1.67534570e+00 ... -2.54961293e+00\n",
      "   -1.61451492e+00 -1.11973593e+00]\n",
      "  [ 2.65413344e+00 -8.50487760e-01 -4.38296565e+00 ... -4.04542126e+00\n",
      "   -1.65963718e+00 -1.40887032e-01]]\n",
      "\n",
      " [[ 1.28163430e+01  1.35013287e+01  1.67616013e+01 ...  1.66162332e+01\n",
      "    1.56226491e+01  1.64999523e+01]\n",
      "  [-9.63858126e+00 -1.98680115e+01 -2.92952031e+01 ...  3.39053169e+00\n",
      "   -2.05213563e+00  5.88430041e+00]\n",
      "  [-1.38066260e+01 -2.71507641e+01 -4.88929503e+01 ... -2.40848664e+01\n",
      "   -2.07413033e+01 -2.57768080e+01]\n",
      "  ...\n",
      "  [-5.81450548e+00  9.39666925e-01 -5.21136858e-01 ... -3.92320650e+00\n",
      "   -5.99530101e+00 -1.09624472e+00]\n",
      "  [ 3.57618614e+00  5.23194089e+00  1.54807352e+00 ... -2.90160067e-02\n",
      "   -3.47949515e-01 -2.01859685e-01]\n",
      "  [-3.83258376e+00 -5.21158775e-01 -4.17023331e+00 ... -3.58304702e+00\n",
      "    2.63854693e+00 -3.82322892e+00]]\n",
      "\n",
      " [[ 1.12278696e+01  1.77871064e+01  1.73888065e+01 ...  1.75291646e+01\n",
      "    1.50013844e+01  1.46032288e+01]\n",
      "  [-1.66178291e+01 -3.73225560e+01 -3.31212746e+01 ...  1.57014375e+01\n",
      "    3.72649999e+00  1.79136732e+00]\n",
      "  [-1.92544223e+01 -4.23429854e+01 -4.23650231e+01 ... -4.02293667e+01\n",
      "   -2.83801869e+01 -3.48672773e+01]\n",
      "  ...\n",
      "  [-9.65603170e-01  3.04682881e+00 -6.15463338e+00 ... -5.30625700e+00\n",
      "    1.54995081e+00  1.20064292e+00]\n",
      "  [-1.22051380e+00  2.75725948e+00 -8.65877185e-01 ... -1.63296018e+00\n",
      "    3.26145644e-01 -1.69798850e+00]\n",
      "  [-4.73659798e-02  6.97861768e-02 -3.16317072e+00 ...  1.31051035e+00\n",
      "   -5.08338549e+00 -2.82875281e+00]]\n",
      "\n",
      " ...\n",
      "\n",
      " [[ 9.74660235e+00  1.73742050e+01  1.62705595e+01 ...  1.60637550e+01\n",
      "    1.75506696e+01  1.40804465e+01]\n",
      "  [-6.29266414e+00 -2.20307864e+01 -1.95785830e+01 ... -9.87431092e+00\n",
      "   -6.63906764e+00 -1.10754436e+01]\n",
      "  [-7.93049432e+00 -3.92514988e+01 -2.97638349e+01 ... -5.58948290e+01\n",
      "   -5.59740163e+01 -4.68689990e+01]\n",
      "  ...\n",
      "  [ 3.67014927e+00  1.68080663e+00  2.72112199e+00 ...  9.43774840e-01\n",
      "    1.25006233e-01  3.99961943e+00]\n",
      "  [-7.11790898e+00 -3.03734523e+00 -3.13335054e+00 ... -7.46464449e+00\n",
      "   -9.58555061e+00  1.84458267e+00]\n",
      "  [-1.62178337e+00  1.72207812e+00  5.36857019e+00 ...  8.09270026e-01\n",
      "    1.63899602e+00 -1.14567555e+00]]\n",
      "\n",
      " [[ 9.34077274e+00  9.79136692e+00  9.78555969e+00 ...  1.52481309e+01\n",
      "    1.35143382e+01  1.60721457e+01]\n",
      "  [-1.10425007e+01 -5.84146861e+00 -7.38460262e+00 ... -5.11303833e+00\n",
      "   -2.00313772e+00 -9.23540352e+00]\n",
      "  [-9.98259881e+00 -6.48384119e+00 -1.28706180e+01 ... -4.98001214e+01\n",
      "   -3.66210468e+01 -5.03754838e+01]\n",
      "  ...\n",
      "  [ 3.43671884e+00 -2.39134602e+00 -1.18165230e+00 ...  1.21392911e+00\n",
      "    2.91653709e+00  1.74390709e+00]\n",
      "  [ 7.06494916e+00  3.21563539e+00 -3.00287679e+00 ... -7.35896379e+00\n",
      "   -3.29548288e+00 -3.26675460e+00]\n",
      "  [-1.35221637e+00  8.10378773e-01  9.59930544e-01 ... -2.10741459e+00\n",
      "    2.96337295e+00 -5.25439341e+00]]\n",
      "\n",
      " [[ 1.69697530e+01  1.61495630e+01  1.61202235e+01 ...  1.75645550e+01\n",
      "    1.63118982e+01  1.63581960e+01]\n",
      "  [-1.54392010e+01 -1.29856419e+01 -1.93325604e+01 ... -1.53480383e+01\n",
      "   -8.44090532e+00 -3.76408570e+00]\n",
      "  [-3.12252009e+01 -2.09234680e+01 -2.51218421e+01 ... -5.51397893e+01\n",
      "   -4.94379877e+01 -5.41261872e+01]\n",
      "  ...\n",
      "  [-3.76735196e+00  1.12022765e+00 -2.19053434e+00 ...  7.07652685e+00\n",
      "    4.60571056e+00  5.23397780e+00]\n",
      "  [ 2.84254401e+00 -3.38571403e+00 -1.69014510e-01 ... -3.36224304e+00\n",
      "    4.82340853e+00 -1.69025742e+00]\n",
      "  [-3.88884934e-01  1.91019600e+00 -2.09820598e+00 ... -3.38179296e+00\n",
      "    1.88008554e-02 -3.51163975e+00]]]\n",
      "[0. 0. 0. 0. 0. 0. 0. 0. 0. 0. 0. 0. 0. 0. 0. 1. 1. 1. 1. 1. 1. 1. 1. 1.\n",
      " 1. 1. 1. 1. 1. 1. 2. 2. 2. 2. 2. 2. 2. 2. 2. 2. 2. 2. 2. 2. 2. 3. 3. 3.\n",
      " 3. 3. 3. 3. 3. 3. 3. 3. 3. 3. 3. 3. 4. 4. 4. 4. 4. 4. 4. 4. 4. 4. 4. 4.\n",
      " 4. 4. 4. 5. 5. 5. 5. 5. 5. 5. 5. 5. 5. 5. 5. 5. 5. 5. 6. 6. 6. 6. 6. 6.\n",
      " 6. 6. 6. 6. 6. 6. 6. 6. 6.]\n"
     ]
    }
   ],
   "source": [
    "x = feature_sets['x']\n",
    "y = feature_sets['y']\n",
    "print(x)\n",
    "print(y)"
   ]
  },
  {
   "cell_type": "code",
   "execution_count": 35,
   "metadata": {},
   "outputs": [
    {
     "name": "stdout",
     "output_type": "stream",
     "text": [
      "Train files :  84\n",
      "Test files :  21\n",
      "y_train\n",
      "[3. 1. 5. 2. 4. 1. 2. 2. 0. 5. 0. 6. 5. 1. 5. 0. 4. 3. 2. 2. 1. 4. 2. 0.\n",
      " 2. 4. 4. 1. 1. 5. 1. 4. 3. 0. 1. 0. 1. 2. 0. 5. 0. 4. 2. 6. 5. 3. 3. 4.\n",
      " 3. 6. 4. 6. 6. 2. 3. 3. 6. 3. 5. 2. 6. 3. 4. 5. 2. 1. 6. 0. 3. 1. 0. 1.\n",
      " 5. 6. 4. 5. 5. 1. 4. 4. 0. 6. 3. 6.]\n",
      "y_test\n",
      "[2. 4. 4. 3. 3. 6. 6. 3. 0. 0. 1. 2. 5. 6. 5. 0. 5. 2. 0. 1. 6.]\n"
     ]
    }
   ],
   "source": [
    "# Split MFFCC coefficients into random train and test subsets\n",
    "from sklearn.model_selection import train_test_split\n",
    "x_train, x_test, y_train, y_test = train_test_split(x, y, test_size=0.2, random_state=42)\n",
    "print(\"Train files : \",len(x_train))\n",
    "print(\"Test files : \", len(x_test))\n",
    "print(\"y_train\")\n",
    "print(y_train)\n",
    "print(\"y_test\")\n",
    "print(y_test)"
   ]
  },
  {
   "cell_type": "markdown",
   "metadata": {},
   "source": [
    "## HMM"
   ]
  },
  {
   "cell_type": "markdown",
   "metadata": {},
   "source": [
    "#### Train HMM models"
   ]
  },
  {
   "cell_type": "code",
   "execution_count": 36,
   "metadata": {},
   "outputs": [],
   "source": [
    "X = [np.array([]) for i in range(0, len(words))]\n",
    "lengths = [0 for i in range(0, len(words))]\n",
    "\n",
    "# Iterate through the y_train\n",
    "for i in range(len(y_train)):\n",
    "\n",
    "    # Extract the label\n",
    "    label = int(y_train[i])\n",
    "    \n",
    "    lengths[label] += 1\n",
    "    \n",
    "    # Extract MFCC features\n",
    "    mfcc_features = x_train[i]\n",
    "            \n",
    "    # Append to the variable X\n",
    "    if len(X[label]) == 0:\n",
    "        X[label] = mfcc_features.T\n",
    "    else:\n",
    "        X[label] = np.append(X[label], mfcc_features.T, axis=0)"
   ]
  },
  {
   "cell_type": "code",
   "execution_count": 37,
   "metadata": {},
   "outputs": [
    {
     "name": "stdout",
     "output_type": "stream",
     "text": [
      "(363, 20)\n",
      "(429, 20)\n",
      "(363, 20)\n"
     ]
    }
   ],
   "source": [
    "print(X[0].shape)\n",
    "print(X[1].shape)\n",
    "print(X[6].shape)"
   ]
  },
  {
   "cell_type": "code",
   "execution_count": 38,
   "metadata": {},
   "outputs": [
    {
     "name": "stdout",
     "output_type": "stream",
     "text": [
      "[11, 13, 12, 12, 13, 12, 11]\n"
     ]
    }
   ],
   "source": [
    "print(lengths)"
   ]
  },
  {
   "cell_type": "code",
   "execution_count": 39,
   "metadata": {},
   "outputs": [
    {
     "name": "stdout",
     "output_type": "stream",
     "text": [
      "training word: apple (363, 20) 11\n",
      "training word: banana (429, 20) 13\n",
      "training word: kiwi (396, 20) 12\n",
      "training word: lime (396, 20) 12\n",
      "training word: orange (429, 20) 13\n",
      "training word: peach (396, 20) 12\n",
      "training word: pineapple (363, 20) 11\n"
     ]
    }
   ],
   "source": [
    "hmm_models = []# 1 modelo por cada label (palabra)\n",
    "\n",
    "for label in range(len(X)):\n",
    "    word = words[label]\n",
    "    lengths_in = [33 for i in range(0, lengths[label])]\n",
    "    print('training word:', word, X[label].shape, lengths[label])\n",
    "\n",
    "    # Train and save HMM model\n",
    "    hmm_trainer = HMMTrainer()\n",
    "    hmm_trainer.train(X[label], lengths_in)\n",
    "    hmm_models.append((hmm_trainer, label, word))\n",
    "    hmm_trainer = None\n",
    "    lengths_in = None"
   ]
  },
  {
   "cell_type": "markdown",
   "metadata": {},
   "source": [
    "#### Test"
   ]
  },
  {
   "cell_type": "code",
   "execution_count": 40,
   "metadata": {},
   "outputs": [],
   "source": [
    "y_pred = np.array([])\n",
    "# Iterate through the y_test\n",
    "for i in range(len(y_test)):\n",
    "    \n",
    "\n",
    "    # Extract the label and view the word\n",
    "    test_label = int(y_test[i])\n",
    "    test_word = words[test_label]\n",
    "    \n",
    "    # Extract MFCC features\n",
    "    mfcc_features = x_test[i]\n",
    "\n",
    "    # Define variables\n",
    "    max_score = float('-inf')\n",
    "    output_label = None\n",
    "    output_word = word\n",
    "    lengths_in = [33]\n",
    "    \n",
    "    # Iterate through all HMM models and pick\n",
    "    # the one with the highest score\n",
    "    for item in hmm_models:\n",
    "        hmm_model, label, word = item\n",
    "        score = hmm_model.get_score(mfcc_features.T, lengths_in)\n",
    "        #print(score)\n",
    "        if score > max_score:\n",
    "            max_score = score\n",
    "            output_label = label\n",
    "            output_word = word\n",
    "            \n",
    "    y_pred = np.append(y_pred, output_label)"
   ]
  },
  {
   "cell_type": "code",
   "execution_count": 41,
   "metadata": {},
   "outputs": [
    {
     "name": "stdout",
     "output_type": "stream",
     "text": [
      "21 21\n"
     ]
    }
   ],
   "source": [
    "print(len(y_pred), len(y_test))"
   ]
  },
  {
   "cell_type": "code",
   "execution_count": 42,
   "metadata": {},
   "outputs": [
    {
     "name": "stdout",
     "output_type": "stream",
     "text": [
      "Confusion Matrix :\n",
      "[[4 0 0 0 0 0 0]\n",
      " [0 2 0 0 0 0 0]\n",
      " [0 0 3 0 0 0 0]\n",
      " [0 0 0 3 0 0 0]\n",
      " [0 0 0 0 2 0 0]\n",
      " [0 0 0 0 0 3 0]\n",
      " [0 0 0 0 0 0 4]]\n",
      "Accuracy Score : 100.0\n",
      "Report : \n",
      "              precision    recall  f1-score   support\n",
      "\n",
      "       apple       1.00      1.00      1.00         4\n",
      "      banana       1.00      1.00      1.00         2\n",
      "        kiwi       1.00      1.00      1.00         3\n",
      "        lime       1.00      1.00      1.00         3\n",
      "      orange       1.00      1.00      1.00         2\n",
      "       peach       1.00      1.00      1.00         3\n",
      "   pineapple       1.00      1.00      1.00         4\n",
      "\n",
      "    accuracy                           1.00        21\n",
      "   macro avg       1.00      1.00      1.00        21\n",
      "weighted avg       1.00      1.00      1.00        21\n",
      "\n"
     ]
    }
   ],
   "source": [
    "from sklearn.metrics import confusion_matrix \n",
    "from sklearn.metrics import accuracy_score \n",
    "from sklearn.metrics import classification_report \n",
    "\n",
    "results = confusion_matrix(y_test, y_pred) \n",
    "print('Confusion Matrix :')\n",
    "print(results) \n",
    "print('Accuracy Score :',accuracy_score(y_test, y_pred)*100 )\n",
    "print('Report : ')\n",
    "print(classification_report(y_test, y_pred, target_names= words))"
   ]
  }
 ],
 "metadata": {
  "kernelspec": {
   "display_name": "Python 3",
   "language": "python",
   "name": "python3"
  },
  "language_info": {
   "codemirror_mode": {
    "name": "ipython",
    "version": 3
   },
   "file_extension": ".py",
   "mimetype": "text/x-python",
   "name": "python",
   "nbconvert_exporter": "python",
   "pygments_lexer": "ipython3",
   "version": "3.7.3"
  }
 },
 "nbformat": 4,
 "nbformat_minor": 2
}
