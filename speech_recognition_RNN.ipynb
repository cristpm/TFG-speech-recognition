{
 "cells": [
  {
   "cell_type": "markdown",
   "metadata": {},
   "source": [
    "# Speech recognition using RNN"
   ]
  },
  {
   "cell_type": "code",
   "execution_count": 1,
   "metadata": {},
   "outputs": [],
   "source": [
    "from os import listdir\n",
    "from os.path import isdir, join\n",
    "import numpy as np\n",
    "import matplotlib.pyplot as plt\n",
    "import python_speech_features\n",
    "from scipy.io import wavfile"
   ]
  },
  {
   "cell_type": "markdown",
   "metadata": {},
   "source": [
    "### Load features"
   ]
  },
  {
   "cell_type": "code",
   "execution_count": 2,
   "metadata": {},
   "outputs": [
    {
     "data": {
      "text/plain": [
       "['x_train', 'y_train', 'x_test', 'y_test', 'words']"
      ]
     },
     "execution_count": 2,
     "metadata": {},
     "output_type": "execute_result"
    }
   ],
   "source": [
    "feature_sets_file = 'mfcc_sets.npz'\n",
    "feature_sets = np.load(feature_sets_file)\n",
    "feature_sets.files"
   ]
  },
  {
   "cell_type": "code",
   "execution_count": 3,
   "metadata": {},
   "outputs": [
    {
     "name": "stdout",
     "output_type": "stream",
     "text": [
      "['yes' 'no' 'up' 'down' 'left' 'right' 'on' 'off' 'stop' 'go' 'forward'\n",
      " 'backward']\n"
     ]
    }
   ],
   "source": [
    "words = feature_sets['words']\n",
    "print(words)"
   ]
  },
  {
   "cell_type": "code",
   "execution_count": 4,
   "metadata": {},
   "outputs": [
    {
     "name": "stdout",
     "output_type": "stream",
     "text": [
      "(25450, 20, 99)\n",
      "(25450,)\n",
      "(12536, 20, 99)\n",
      "(12536,)\n"
     ]
    }
   ],
   "source": [
    "x_train = feature_sets['x_train']\n",
    "y_train = feature_sets['y_train']\n",
    "x_test = feature_sets['x_test']\n",
    "y_test = feature_sets['y_test']\n",
    "print(x_train.shape)\n",
    "print(y_train.shape)\n",
    "print(x_test.shape)\n",
    "print(y_test.shape)"
   ]
  },
  {
   "cell_type": "code",
   "execution_count": 5,
   "metadata": {},
   "outputs": [],
   "source": [
    "import tensorflow as tf\n",
    "from tensorflow.keras import layers\n",
    "from tensorflow.keras import models"
   ]
  },
  {
   "cell_type": "code",
   "execution_count": 6,
   "metadata": {},
   "outputs": [
    {
     "name": "stdout",
     "output_type": "stream",
     "text": [
      "(25450, 20, 99, 1)\n",
      "(12536, 20, 99, 1)\n"
     ]
    }
   ],
   "source": [
    "# CNN for TF expects (batch, height, width, channels)\n",
    "# So we reshape the input tensors with a \"color\" channel of 1\n",
    "x_train = x_train.reshape(x_train.shape[0], \n",
    "                          x_train.shape[1], \n",
    "                          x_train.shape[2], \n",
    "                          1)\n",
    "#x_val = x_val.reshape(x_val.shape[0], \n",
    "                      #x_val.shape[1], \n",
    "                      #x_val.shape[2], \n",
    "                      #1)\n",
    "x_test = x_test.reshape(x_test.shape[0], \n",
    "                        x_test.shape[1], \n",
    "                        x_test.shape[2], \n",
    "                        1)\n",
    "print(x_train.shape)\n",
    "#print(x_val.shape)\n",
    "print(x_test.shape)"
   ]
  },
  {
   "cell_type": "code",
   "execution_count": 7,
   "metadata": {},
   "outputs": [
    {
     "name": "stdout",
     "output_type": "stream",
     "text": [
      "(20, 99, 1)\n"
     ]
    }
   ],
   "source": [
    "# Input shape for CNN is size of MFCC of 1 sample\n",
    "sample_shape = x_test.shape[1:]\n",
    "print(sample_shape)"
   ]
  },
  {
   "cell_type": "code",
   "execution_count": 8,
   "metadata": {},
   "outputs": [
    {
     "name": "stdout",
     "output_type": "stream",
     "text": [
      "Model: \"sequential\"\n",
      "_________________________________________________________________\n",
      "Layer (type)                 Output Shape              Param #   \n",
      "=================================================================\n",
      "conv2d (Conv2D)              (None, 19, 98, 32)        160       \n",
      "_________________________________________________________________\n",
      "max_pooling2d (MaxPooling2D) (None, 9, 49, 32)         0         \n",
      "_________________________________________________________________\n",
      "conv2d_1 (Conv2D)            (None, 8, 48, 32)         4128      \n",
      "_________________________________________________________________\n",
      "max_pooling2d_1 (MaxPooling2 (None, 4, 24, 32)         0         \n",
      "_________________________________________________________________\n",
      "conv2d_2 (Conv2D)            (None, 3, 23, 64)         8256      \n",
      "_________________________________________________________________\n",
      "max_pooling2d_2 (MaxPooling2 (None, 1, 11, 64)         0         \n",
      "_________________________________________________________________\n",
      "flatten (Flatten)            (None, 704)               0         \n",
      "_________________________________________________________________\n",
      "dense (Dense)                (None, 64)                45120     \n",
      "_________________________________________________________________\n",
      "dropout (Dropout)            (None, 64)                0         \n",
      "_________________________________________________________________\n",
      "dense_1 (Dense)              (None, 12)                780       \n",
      "=================================================================\n",
      "Total params: 58,444\n",
      "Trainable params: 58,444\n",
      "Non-trainable params: 0\n",
      "_________________________________________________________________\n"
     ]
    }
   ],
   "source": [
    "# Build model\n",
    "# Based on: https://www.geeksforgeeks.org/python-image-classification-using-keras/\n",
    "model = models.Sequential()\n",
    "model.add(layers.Conv2D(32, \n",
    "                        (2, 2), \n",
    "                        activation='relu',\n",
    "                        input_shape=sample_shape))\n",
    "model.add(layers.MaxPooling2D(pool_size=(2, 2)))\n",
    "\n",
    "model.add(layers.Conv2D(32, (2, 2), activation='relu'))\n",
    "model.add(layers.MaxPooling2D(pool_size=(2, 2)))\n",
    "\n",
    "model.add(layers.Conv2D(64, (2, 2), activation='relu'))\n",
    "model.add(layers.MaxPooling2D(pool_size=(2, 2)))\n",
    "\n",
    "# Classifier\n",
    "model.add(layers.Flatten())\n",
    "model.add(layers.Dense(64, activation='relu'))\n",
    "model.add(layers.Dropout(0.5))\n",
    "model.add(layers.Dense(len(words), activation='sigmoid'))\n",
    "# Display model\n",
    "model.summary()"
   ]
  },
  {
   "cell_type": "code",
   "execution_count": 9,
   "metadata": {},
   "outputs": [],
   "source": [
    "model.compile(\n",
    "    optimizer='adam',\n",
    "    loss='sparse_categorical_crossentropy',\n",
    "    metrics=['accuracy']\n",
    ")"
   ]
  },
  {
   "cell_type": "code",
   "execution_count": 10,
   "metadata": {},
   "outputs": [
    {
     "name": "stdout",
     "output_type": "stream",
     "text": [
      "Epoch 1/30\n",
      "255/255 [==============================] - 14s 57ms/step - loss: 2.3519 - accuracy: 0.1615\n",
      "Epoch 2/30\n",
      "255/255 [==============================] - 15s 58ms/step - loss: 1.8751 - accuracy: 0.3219\n",
      "Epoch 3/30\n",
      "255/255 [==============================] - 16s 62ms/step - loss: 1.5697 - accuracy: 0.4490\n",
      "Epoch 4/30\n",
      "255/255 [==============================] - 16s 63ms/step - loss: 1.2968 - accuracy: 0.5536\n",
      "Epoch 5/30\n",
      "255/255 [==============================] - 19s 73ms/step - loss: 1.1289 - accuracy: 0.6114\n",
      "Epoch 6/30\n",
      "255/255 [==============================] - 19s 74ms/step - loss: 0.9788 - accuracy: 0.6683\n",
      "Epoch 7/30\n",
      "255/255 [==============================] - 19s 75ms/step - loss: 0.9059 - accuracy: 0.6918\n",
      "Epoch 8/30\n",
      "255/255 [==============================] - 19s 74ms/step - loss: 0.8240 - accuracy: 0.7195\n",
      "Epoch 9/30\n",
      "255/255 [==============================] - 19s 74ms/step - loss: 0.7677 - accuracy: 0.7374\n",
      "Epoch 10/30\n",
      "255/255 [==============================] - 19s 73ms/step - loss: 0.7073 - accuracy: 0.7604\n",
      "Epoch 11/30\n",
      "255/255 [==============================] - 19s 73ms/step - loss: 0.6649 - accuracy: 0.7714\n",
      "Epoch 12/30\n",
      "255/255 [==============================] - 19s 75ms/step - loss: 0.6314 - accuracy: 0.7853\n",
      "Epoch 13/30\n",
      "255/255 [==============================] - 20s 80ms/step - loss: 0.5832 - accuracy: 0.8013\n",
      "Epoch 14/30\n",
      "255/255 [==============================] - 19s 74ms/step - loss: 0.5594 - accuracy: 0.8094\n",
      "Epoch 15/30\n",
      "255/255 [==============================] - 17s 65ms/step - loss: 0.5268 - accuracy: 0.8183\n",
      "Epoch 16/30\n",
      "255/255 [==============================] - 17s 65ms/step - loss: 0.5102 - accuracy: 0.8247\n",
      "Epoch 17/30\n",
      "255/255 [==============================] - 17s 66ms/step - loss: 0.4870 - accuracy: 0.8319\n",
      "Epoch 18/30\n",
      "255/255 [==============================] - 17s 67ms/step - loss: 0.4619 - accuracy: 0.8439\n",
      "Epoch 19/30\n",
      "255/255 [==============================] - 17s 68ms/step - loss: 0.4428 - accuracy: 0.8483\n",
      "Epoch 20/30\n",
      "255/255 [==============================] - 17s 66ms/step - loss: 0.4264 - accuracy: 0.8547\n",
      "Epoch 21/30\n",
      "255/255 [==============================] - 17s 65ms/step - loss: 0.4175 - accuracy: 0.8541\n",
      "Epoch 22/30\n",
      "255/255 [==============================] - 17s 65ms/step - loss: 0.3970 - accuracy: 0.8627\n",
      "Epoch 23/30\n",
      "255/255 [==============================] - 17s 66ms/step - loss: 0.3885 - accuracy: 0.8624\n",
      "Epoch 24/30\n",
      "255/255 [==============================] - 17s 65ms/step - loss: 0.3584 - accuracy: 0.8762\n",
      "Epoch 25/30\n",
      "255/255 [==============================] - 17s 66ms/step - loss: 0.3565 - accuracy: 0.8765\n",
      "Epoch 26/30\n",
      "255/255 [==============================] - 19s 74ms/step - loss: 0.3474 - accuracy: 0.8805\n",
      "Epoch 27/30\n",
      "255/255 [==============================] - 18s 70ms/step - loss: 0.3347 - accuracy: 0.8833\n",
      "Epoch 28/30\n",
      "255/255 [==============================] - 18s 70ms/step - loss: 0.3280 - accuracy: 0.8827\n",
      "Epoch 29/30\n",
      "255/255 [==============================] - 18s 69ms/step - loss: 0.3274 - accuracy: 0.8852\n",
      "Epoch 30/30\n",
      "255/255 [==============================] - 17s 68ms/step - loss: 0.3087 - accuracy: 0.8896\n"
     ]
    }
   ],
   "source": [
    "EPOCHS = 30\n",
    "history = model.fit(\n",
    "    x_train, \n",
    "    y_train,  \n",
    "    epochs=EPOCHS,\n",
    "    batch_size=100\n",
    ")"
   ]
  },
  {
   "cell_type": "code",
   "execution_count": 11,
   "metadata": {},
   "outputs": [
    {
     "name": "stdout",
     "output_type": "stream",
     "text": [
      "Test set accuracy: 89%\n"
     ]
    }
   ],
   "source": [
    "y_pred = np.argmax(model.predict(x_test), axis=1)\n",
    "y_true = y_test\n",
    "\n",
    "test_acc = sum(y_pred == y_true) / len(y_true)\n",
    "print(f'Test set accuracy: {test_acc:.0%}')"
   ]
  },
  {
   "cell_type": "code",
   "execution_count": 12,
   "metadata": {},
   "outputs": [
    {
     "data": {
      "image/png": "[encoded data removed]",
      "text/plain": [
       "<Figure size 720x576 with 2 Axes>"
      ]
     },
     "metadata": {
      "needs_background": "light"
     },
     "output_type": "display_data"
    }
   ],
   "source": [
    "import seaborn as sns\n",
    "confusion_mtx = tf.math.confusion_matrix(y_true, y_pred) \n",
    "plt.figure(figsize=(10, 8))\n",
    "sns.heatmap(confusion_mtx, xticklabels=words, yticklabels=words, \n",
    "            annot=True, fmt='g')\n",
    "plt.xlabel('Prediction')\n",
    "plt.ylabel('Label')\n",
    "plt.show()"
   ]
  }
 ],
 "metadata": {
  "kernelspec": {
   "display_name": "Python 3",
   "language": "python",
   "name": "python3"
  },
  "language_info": {
   "codemirror_mode": {
    "name": "ipython",
    "version": 3
   },
   "file_extension": ".py",
   "mimetype": "text/x-python",
   "name": "python",
   "nbconvert_exporter": "python",
   "pygments_lexer": "ipython3",
   "version": "3.7.3"
  }
 },
 "nbformat": 4,
 "nbformat_minor": 2
}
